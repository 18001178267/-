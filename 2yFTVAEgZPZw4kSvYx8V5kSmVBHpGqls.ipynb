{
 "cells": [
  {
   "cell_type": "markdown",
   "metadata": {},
   "source": [
    "赛事理解：\n",
    "\n",
    "特征：选取mfcc作为特征，128维度（默认下最高）\n",
    "\n",
    "训练：CNN，一维卷积（无池化）\n",
    "\n",
    "融合：随机多种子融合"
   ]
  },
  {
   "cell_type": "code",
   "execution_count": null,
   "metadata": {},
   "outputs": [],
   "source": [
    "# #1.训练集数据下载\n",
    "!wget http://tianchi-competition.oss-cn-hangzhou.aliyuncs.com/531887/train.zip\n",
    "!wget http://tianchi-competition.oss-cn-hangzhou.aliyuncs.com/531887/test_b.zip\n",
    "# #2.解压缩包\n",
    "!unzip /data/nas/workspace/jupyter/download/train.zip\n",
    "!unzip /data/nas/workspace/jupyter/download/test_b.zip"
   ]
  },
  {
   "cell_type": "code",
   "execution_count": 1,
   "metadata": {},
   "outputs": [
    {
     "name": "stdout",
     "output_type": "stream",
     "text": [
      "Defaulting to user installation because normal site-packages is not writeable\n",
      "Looking in indexes: https://mirrors.cloud.aliyuncs.com/pypi/simple\n",
      "Collecting librosa\n",
      "  Using cached https://mirrors.cloud.aliyuncs.com/pypi/packages/54/19/a0e2bdc94bc0d1555e4f9bc4099a0751da83fa6e1e6157ec005564f8a98a/librosa-0.8.1-py3-none-any.whl (203 kB)\n",
      "Processing /data/nas/workspace/jupyter/.cache/pip/wheels/da/5c/80/b00b2b7a42dec960f41a10e91171fe36749d12d9404b9cc75f/resampy-0.2.2-py3-none-any.whl\n",
      "Collecting soundfile>=0.10.2\n",
      "  Using cached https://mirrors.cloud.aliyuncs.com/pypi/packages/eb/f2/3cbbbf3b96fb9fa91582c438b574cff3f45b29c772f94c400e2c99ef5db9/SoundFile-0.10.3.post1-py2.py3-none-any.whl (21 kB)\n",
      "Requirement already satisfied: packaging>=20.0 in /home/admin/.local/lib/python3.6/site-packages (from librosa) (20.4)\n",
      "Collecting joblib>=0.14\n",
      "  Using cached https://mirrors.cloud.aliyuncs.com/pypi/packages/55/85/70c6602b078bd9e6f3da4f467047e906525c355a4dacd4f71b97a35d9897/joblib-1.0.1-py3-none-any.whl (303 kB)\n",
      "Requirement already satisfied: scipy>=1.0.0 in /home/admin/.local/lib/python3.6/site-packages (from librosa) (1.4.1)\n",
      "Processing /data/nas/workspace/jupyter/.cache/pip/wheels/5a/42/2c/27a6f9ca97534e10a7bb996574a937e60bc736870eee03770d/audioread-2.1.9-py3-none-any.whl\n",
      "Collecting pooch>=1.0\n",
      "  Using cached https://mirrors.cloud.aliyuncs.com/pypi/packages/40/b9/9876662636ba451d4406543047c0b45ca5b4e830f931308c8274dad1db43/pooch-1.3.0-py3-none-any.whl (51 kB)\n",
      "Requirement already satisfied: numpy>=1.15.0 in /home/admin/.local/lib/python3.6/site-packages (from librosa) (1.16.6)\n",
      "Collecting numba>=0.43.0\n",
      "  Using cached https://mirrors.cloud.aliyuncs.com/pypi/packages/4a/c1/e7fdbfc886a9d9c11767533903db0d816c0f656fd6029f4a061742893694/numba-0.53.1-cp36-cp36m-manylinux2014_x86_64.whl (3.4 MB)\n",
      "Requirement already satisfied: decorator>=3.0.0 in /home/admin/.local/lib/python3.6/site-packages (from librosa) (4.3.2)\n",
      "Requirement already satisfied: scikit-learn!=0.19.0,>=0.14.0 in /home/admin/.local/lib/python3.6/site-packages (from librosa) (0.20.4)\n",
      "Requirement already satisfied: six>=1.3 in /home/admin/.local/lib/python3.6/site-packages (from resampy>=0.2.2->librosa) (1.15.0)\n",
      "Requirement already satisfied: cffi>=1.0 in /home/admin/.local/lib/python3.6/site-packages (from soundfile>=0.10.2->librosa) (1.14.4)\n",
      "Requirement already satisfied: pyparsing>=2.0.2 in /home/admin/.local/lib/python3.6/site-packages (from packaging>=20.0->librosa) (2.4.7)\n",
      "Requirement already satisfied: appdirs in /usr/local/lib/python3.6/dist-packages (from pooch>=1.0->librosa) (1.4.4)\n",
      "Requirement already satisfied: requests in /home/admin/.local/lib/python3.6/site-packages (from pooch>=1.0->librosa) (2.25.0)\n",
      "Requirement already satisfied: setuptools in /usr/local/lib/python3.6/dist-packages (from numba>=0.43.0->librosa) (50.3.2)\n",
      "Collecting llvmlite<0.37,>=0.36.0rc1\n",
      "  Using cached https://mirrors.cloud.aliyuncs.com/pypi/packages/4d/5a/707cc7e072d71bc19869d093e5cf9b7be98cb42d2398489465474d007ce8/llvmlite-0.36.0-cp36-cp36m-manylinux2010_x86_64.whl (25.3 MB)\n",
      "Requirement already satisfied: pycparser in /home/admin/.local/lib/python3.6/site-packages (from cffi>=1.0->soundfile>=0.10.2->librosa) (2.20)\n",
      "Requirement already satisfied: certifi>=2017.4.17 in /home/admin/.local/lib/python3.6/site-packages (from requests->pooch>=1.0->librosa) (2020.11.8)\n",
      "Requirement already satisfied: idna<3,>=2.5 in /home/admin/.local/lib/python3.6/site-packages (from requests->pooch>=1.0->librosa) (2.10)\n",
      "Requirement already satisfied: urllib3<1.27,>=1.21.1 in /home/admin/.local/lib/python3.6/site-packages (from requests->pooch>=1.0->librosa) (1.26.2)\n",
      "Requirement already satisfied: chardet<4,>=3.0.2 in /home/admin/.local/lib/python3.6/site-packages (from requests->pooch>=1.0->librosa) (3.0.4)\n",
      "Installing collected packages: llvmlite, numba, resampy, soundfile, joblib, audioread, pooch, librosa\n",
      "Successfully installed audioread-2.1.9 joblib-1.0.1 librosa-0.8.1 llvmlite-0.36.0 numba-0.53.1 pooch-1.3.0 resampy-0.2.2 soundfile-0.10.3.post1\n",
      "\u001b[33mWARNING: You are using pip version 20.2.4; however, version 21.1.2 is available.\n",
      "You should consider upgrading via the '/usr/bin/python -m pip install --upgrade pip' command.\u001b[0m\n",
      "Defaulting to user installation because normal site-packages is not writeable\n",
      "Looking in indexes: https://mirrors.cloud.aliyuncs.com/pypi/simple\n",
      "Installing collected packages: h5py\n",
      "  Attempting uninstall: h5py\n",
      "    Found existing installation: h5py 3.1.0\n",
      "    Uninstalling h5py-3.1.0:\n",
      "      Successfully uninstalled h5py-3.1.0\n",
      "Successfully installed h5py-2.10.0\n",
      "\u001b[33mWARNING: You are using pip version 20.2.4; however, version 21.1.2 is available.\n",
      "You should consider upgrading via the '/usr/bin/python -m pip install --upgrade pip' command.\u001b[0m\n"
     ]
    }
   ],
   "source": [
    "!pip install librosa\n",
    "# !pip uninstall -y h5py \n",
    "!pip install h5py==2.10.0\n",
    "\n",
    "# 如果后面代码块的中load_model函数启动失败，手动重启kernel,使h5py2.10.0生效，否则后续无法加载keras模型进行预测"
   ]
  },
  {
   "cell_type": "code",
   "execution_count": 2,
   "metadata": {},
   "outputs": [],
   "source": [
    "# 基本库\n",
    "import os\n",
    "# os.environ[\"CUDA_DEVICE_ORDER\"] = \"PCI_BUS_ID\"\n",
    "# os.environ[\"CUDA_VISIBLE_DEVICES\"] = \"\"\n",
    "# os.environ['TF_CPP_MIN_LOG_LEVEL']='3'\n",
    "import pandas as pd\n",
    "import numpy as np\n",
    "import random\n",
    "import tensorflow\n",
    "import glob\n",
    "from collections import Counter\n",
    "# 搭建分类模型所需要的库\n",
    "from sklearn.model_selection import train_test_split\n",
    "from tensorflow.keras.utils import to_categorical\n",
    "from tensorflow.keras.models import load_model\n",
    "from tensorflow.keras.models import Sequential\n",
    "from tensorflow.python.keras.callbacks import ModelCheckpoint\n",
    "from tensorflow.keras.layers import *\n",
    "from tqdm import tqdm\n",
    "# 加载音频处理库\n",
    "import librosa\n",
    "import librosa.display\n",
    "\n",
    "\n",
    "def set_seeds(seed=666):\n",
    "    random.seed(seed)\n",
    "    os.environ['PYTHONHASHSEED'] = str(seed)\n",
    "    np.random.seed(seed)\n",
    "    tensorflow.random.set_seed(seed)\n",
    "set_seeds()"
   ]
  },
  {
   "cell_type": "code",
   "execution_count": 3,
   "metadata": {},
   "outputs": [],
   "source": [
    "feature = []\n",
    "label = []\n",
    "# 建立类别标签，不同类别对应不同的数字。\n",
    "label_dict = {'aloe': 0, 'burger': 1, 'cabbage': 2, 'candied_fruits': 3, 'carrots': 4, 'chips': 5,\n",
    "              'chocolate': 6, 'drinks': 7, 'fries': 8, 'grapes': 9, 'gummies': 10, 'ice-cream': 11,\n",
    "              'jelly': 12, 'noodles': 13, 'pickles': 14, 'pizza': 15, 'ribs': 16, 'salmon': 17,\n",
    "              'soup': 18, 'wings': 19}\n",
    "label_dict_inv = {v: k for k, v in label_dict.items()}\n",
    "\n",
    "##提取训练集数据特征\n",
    "def extract_features(parent_dir, sub_dirs, max_file=10, file_ext=\"*.wav\"):    \n",
    "    label, feature = [], []\n",
    "    for sub_dir in sub_dirs:\n",
    "        for fn in tqdm(glob.glob(os.path.join(parent_dir, sub_dir, file_ext))[:max_file]):  # 遍历数据集的所有文件\n",
    "            label_name = fn.split('/')[-2]\n",
    "            label.extend([label_dict[label_name]])\n",
    "            X, sample_rate = librosa.load(fn, res_type='kaiser_fast')\n",
    "            mels = np.mean(librosa.feature.mfcc(y=X, sr=sample_rate, n_mfcc=128).T, axis=0)  # 计算mfcc,并把它作为特征\n",
    "            feature.extend([mels])\n",
    "    return [feature, label]\n",
    "\n",
    "##提取测试集数据特征\n",
    "def extract_features_test(test_dir, file_ext=\"*.wav\"):\n",
    "    feature = []\n",
    "    for fn in tqdm(glob.glob(os.path.join(test_dir, file_ext))[:]):  # 遍历数据集的所有文件\n",
    "        X, sample_rate = librosa.load(fn, res_type='kaiser_fast')\n",
    "        mels = np.mean(librosa.feature.mfcc(y=X, sr=sample_rate, n_mfcc=128).T, axis=0)  # 计算mfcc,并把它作为特征\n",
    "        feature.extend([mels])\n",
    "    return feature\n",
    "\n",
    "\n",
    "def generate_train():\n",
    "    # 自己更改目录\n",
    "    parent_dir = r'./train'                          #########训练集文件夹路径\n",
    "\n",
    "    sub_dirs = np.array(['aloe', 'burger', 'cabbage', 'candied_fruits',\n",
    "                                 'carrots', 'chips', 'chocolate', 'drinks', 'fries',\n",
    "                                 'grapes', 'gummies', 'ice-cream', 'jelly', 'noodles', 'pickles',\n",
    "                                 'pizza', 'ribs', 'salmon', 'soup', 'wings'])\n",
    "    temp = extract_features(parent_dir, sub_dirs, max_file=1000)\n",
    "\n",
    "    temp = np.array(temp)\n",
    "    data = temp.transpose()\n",
    "    np.save('fusai_train_mfcc_128', data)\n",
    "    print(data.shape)\n",
    "    # 获取特征\n",
    "    X = np.vstack(data[:, 0])\n",
    "    # 获取标签\n",
    "    Y = np.array(data[:, 1])\n",
    "    print('X的特征尺寸是：', X.shape)\n",
    "    print('Y的特征尺寸是：', Y.shape)\n",
    "    a = np.load('./fusai_train_mfcc_128.npy', allow_pickle=True)\n",
    "    print(a.shape)\n",
    "    Y = to_categorical(Y)\n",
    "\n",
    "\n",
    "def generate_test():\n",
    "    X_test = extract_features_test('./test_b')       #########测试集文件夹路径\n",
    "    X_test = np.vstack(X_test)\n",
    "    temp = np.array(X_test)\n",
    "    np.save('./fusai_test_mfcc_128', temp)\n",
    "    print(temp.shape)\n",
    "\n"
   ]
  },
  {
   "cell_type": "code",
   "execution_count": 4,
   "metadata": {},
   "outputs": [],
   "source": [
    "generate_train()   #生成128维的训练集mfcc数据\n",
    "generate_test()    #生成128维的测试集mfcc数据"
   ]
  },
  {
   "cell_type": "code",
   "execution_count": 6,
   "metadata": {},
   "outputs": [
    {
     "name": "stderr",
     "output_type": "stream",
     "text": [
      "  0%|          | 0/10 [00:00<?, ?it/s]"
     ]
    },
    {
     "name": "stdout",
     "output_type": "stream",
     "text": [
      "6677\n",
      "WARNING:tensorflow:Large dropout rate: 0.52 (>0.5). In TensorFlow 2.x, dropout() uses dropout rate instead of keep_prob. Please ensure that this is intended.\n",
      "WARNING:tensorflow:Large dropout rate: 0.52 (>0.5). In TensorFlow 2.x, dropout() uses dropout rate instead of keep_prob. Please ensure that this is intended.\n",
      "WARNING:tensorflow:Large dropout rate: 0.52 (>0.5). In TensorFlow 2.x, dropout() uses dropout rate instead of keep_prob. Please ensure that this is intended.\n",
      "WARNING:tensorflow:Large dropout rate: 0.52 (>0.5). In TensorFlow 2.x, dropout() uses dropout rate instead of keep_prob. Please ensure that this is intended.\n",
      "WARNING:tensorflow:Large dropout rate: 0.52 (>0.5). In TensorFlow 2.x, dropout() uses dropout rate instead of keep_prob. Please ensure that this is intended.\n"
     ]
    },
    {
     "name": "stderr",
     "output_type": "stream",
     "text": [
      " 10%|█         | 1/10 [15:16<2:17:25, 916.13s/it]"
     ]
    },
    {
     "name": "stdout",
     "output_type": "stream",
     "text": [
      "6678\n"
     ]
    },
    {
     "name": "stderr",
     "output_type": "stream",
     "text": [
      " 20%|██        | 2/10 [30:24<2:01:51, 913.92s/it]"
     ]
    },
    {
     "name": "stdout",
     "output_type": "stream",
     "text": [
      "6679\n"
     ]
    },
    {
     "name": "stderr",
     "output_type": "stream",
     "text": [
      " 30%|███       | 3/10 [45:33<1:46:26, 912.42s/it]"
     ]
    },
    {
     "name": "stdout",
     "output_type": "stream",
     "text": [
      "6680\n"
     ]
    },
    {
     "name": "stderr",
     "output_type": "stream",
     "text": [
      " 40%|████      | 4/10 [1:00:42<1:31:08, 911.43s/it]"
     ]
    },
    {
     "name": "stdout",
     "output_type": "stream",
     "text": [
      "6681\n"
     ]
    },
    {
     "name": "stderr",
     "output_type": "stream",
     "text": [
      " 50%|█████     | 5/10 [1:15:50<1:15:51, 910.40s/it]"
     ]
    },
    {
     "name": "stdout",
     "output_type": "stream",
     "text": [
      "6682\n"
     ]
    },
    {
     "name": "stderr",
     "output_type": "stream",
     "text": [
      " 60%|██████    | 6/10 [1:30:58<1:00:38, 909.69s/it]"
     ]
    },
    {
     "name": "stdout",
     "output_type": "stream",
     "text": [
      "6683\n"
     ]
    },
    {
     "name": "stderr",
     "output_type": "stream",
     "text": [
      " 70%|███████   | 7/10 [1:46:07<45:27, 909.29s/it]  "
     ]
    },
    {
     "name": "stdout",
     "output_type": "stream",
     "text": [
      "6684\n"
     ]
    },
    {
     "name": "stderr",
     "output_type": "stream",
     "text": [
      " 80%|████████  | 8/10 [2:01:15<30:17, 908.89s/it]"
     ]
    },
    {
     "name": "stdout",
     "output_type": "stream",
     "text": [
      "6685\n"
     ]
    },
    {
     "name": "stderr",
     "output_type": "stream",
     "text": [
      " 90%|█████████ | 9/10 [2:16:23<15:08, 908.56s/it]"
     ]
    },
    {
     "name": "stdout",
     "output_type": "stream",
     "text": [
      "6686\n"
     ]
    },
    {
     "name": "stderr",
     "output_type": "stream",
     "text": [
      "100%|██████████| 10/10 [2:31:31<00:00, 909.12s/it]\n"
     ]
    }
   ],
   "source": [
    "for _ in tqdm(range(6677, 6687)):   ###生成10个模型用于融合，类似于10折效果\n",
    "    print(_)\n",
    "    a = np.load('./fusai_train_mfcc_128.npy', allow_pickle=True)\n",
    "    # 获取特征\n",
    "    X = np.vstack(a[:, 0])\n",
    "    # 获取标签\n",
    "    Y = np.array(a[:, 1])\n",
    "    Y = to_categorical(Y)\n",
    "    X_train, X_test, Y_train, Y_test = train_test_split(X, Y, random_state=int(_), stratify=Y, test_size=0.1)   ###通过随机数种子，按照9:1的比例划分训练集和验证集\n",
    "    X_train = X_train.reshape(-1, int(X.shape[-1]), 1)\n",
    "    X_test = X_test.reshape(-1, int(X.shape[-1]), 1)\n",
    "    \n",
    "    model = Sequential()\n",
    "    input_dim = (int(X.shape[-1]), 1)\n",
    "    model.add(Conv1D(16, (3), padding=\"same\", activation=\"relu\", input_shape=input_dim))  # 卷积层   \n",
    "    model.add(Conv1D(16, (3), padding=\"same\", activation=\"relu\"))  # 卷积层\n",
    "    model.add(Conv1D(16, (3), padding=\"same\", activation=\"relu\"))  # 卷积层\n",
    "    model.add(BatchNormalization())   #BN层\n",
    "    model.add(Dropout(0.52,seed=66))  \n",
    "    model.add(Flatten())  # 展开\n",
    "    model.add(Dense(1024, activation=\"relu\"))\n",
    "    model.add(Dropout(0.52,seed=66))\n",
    "    model.add(Dense(20, activation=\"softmax\"))  # 输出层：20个units输出20个类的概率\n",
    "\n",
    "    # 编译模型，设置损失函数，优化方法以及评价标准\n",
    "    model.compile(optimizer='adam', loss='categorical_crossentropy', metrics=['accuracy'])\n",
    "\n",
    "    filepath = \"weights_best.hdf5\"\n",
    "    checkpoint = ModelCheckpoint(filepath, monitor='val_accuracy', verbose=0, save_best_only=True,\n",
    "                              mode='max')\n",
    "    callbacks_list = [checkpoint]\n",
    "    # model.load_weights(\"weights_best.hdf5\")\n",
    "    history = model.fit(X_train, Y_train, epochs=1234, batch_size=128, validation_data=(X_test, Y_test),\n",
    "                      callbacks=callbacks_list, verbose=0)  # validation_split = 0.2\n",
    "    max_val = \"{:.4f}\".format(max(history.history['val_accuracy']))\n",
    "\n",
    "    new_name = str(max_val) + \"_\" + str(_) + '_' + \"weights_best.hdf5\"\n",
    "    os.rename(filepath, new_name)"
   ]
  },
  {
   "cell_type": "code",
   "execution_count": null,
   "metadata": {},
   "outputs": [
    {
     "name": "stdout",
     "output_type": "stream",
     "text": [
      "['./0.9986_6677_weights_best.hdf5', './0.9986_6679_weights_best.hdf5', './0.9986_6680_weights_best.hdf5', './0.9986_6681_weights_best.hdf5', './0.9986_6683_weights_best.hdf5', './0.9986_6686_weights_best.hdf5', './1.0000_6678_weights_best.hdf5', './1.0000_6682_weights_best.hdf5', './1.0000_6684_weights_best.hdf5', './1.0000_6685_weights_best.hdf5']\n"
     ]
    }
   ],
   "source": [
    "########## 使用10个模型，生成10个预测表格 ##########\n",
    "best_list = glob.glob('./*.hdf5')\n",
    "print(best_list)\n",
    "\n",
    "for index, _ in enumerate(best_list):\n",
    "    model = load_model(_)  # 加载模型准备预测\n",
    "    X_test = np.load('./fusai_test_mfcc_128.npy', allow_pickle=True)\n",
    "    predictions = model.predict(X_test.reshape(-1, 128, 1))\n",
    "    preds = np.argmax(predictions, axis=1)\n",
    "    preds = [label_dict_inv[x] for x in preds]\n",
    "\n",
    "    path = glob.glob('./test_b/*.wav')\n",
    "    result = pd.DataFrame({'name': path, f'{index}_label': preds})\n",
    "\n",
    "    result['name'] = result['name'].apply(lambda x: x.split('/')[-1])\n",
    "    result.to_csv(f'{index}_submit.csv', index=None)\n"
   ]
  },
  {
   "cell_type": "code",
   "execution_count": 10,
   "metadata": {},
   "outputs": [],
   "source": [
    "########################## 对10个预测表格进行简单的投票，筛选出频率最高的值，作为最终预测结果 ##############################\n",
    "aa = pd.read_csv('0_submit.csv')\n",
    "for _ in range(1, 10):##############\n",
    "    aa = pd.merge(aa, pd.read_csv(f'{_}_submit.csv'), on='name')\n",
    "\n",
    "label = aa.columns.drop('name')\n",
    "all_label = pd.DataFrame(aa, columns=label)\n",
    "\n",
    "label_merge = []\n",
    "for _ in all_label.values:\n",
    "    c = Counter(_)\n",
    "    label_merge.append(c.most_common(1)[0][0])\n",
    "\n",
    "result_merge = pd.DataFrame({'name': aa['name'], 'label': label_merge})\n",
    "result_merge.to_csv('submit.csv', index=None)\n"
   ]
  },
  {
   "cell_type": "markdown",
   "metadata": {},
   "source": [
    "总结：\n",
    "\n",
    "1、声音特征数据量很小，不适宜使用SSD等模型训练；\n",
    "\n",
    "2、训练应尽可能保留所有信息，所以在这种情况，可以不适用池化，防止信息丢失\n",
    "\n",
    "3、灵活使用dropout\n",
    "\n",
    "\n",
    "拓展：\n",
    "\n",
    "1、可考虑树模型和nn模型融合\n",
    "\n",
    "2、可考虑扩展特征维度"
   ]
  }
 ],
 "metadata": {
  "kernelspec": {
   "display_name": "Python 3",
   "language": "python",
   "name": "python3"
  },
  "language_info": {
   "codemirror_mode": {
    "name": "ipython",
    "version": 3
   },
   "file_extension": ".py",
   "mimetype": "text/x-python",
   "name": "python",
   "nbconvert_exporter": "python",
   "pygments_lexer": "ipython3",
   "version": "3.6.5"
  },
  "tianchi_metadata": {
   "competitions": [],
   "datasets": [
    {
     "id": "96728",
     "title": "获取数据集标题失败"
    }
   ],
   "description": "",
   "notebookId": "213933",
   "source": "dsw"
  }
 },
 "nbformat": 4,
 "nbformat_minor": 4
}
